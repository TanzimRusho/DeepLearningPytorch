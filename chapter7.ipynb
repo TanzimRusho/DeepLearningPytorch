{
  "nbformat": 4,
  "nbformat_minor": 0,
  "metadata": {
    "colab": {
      "name": "chapter7.ipynb",
      "provenance": [],
      "include_colab_link": true
    },
    "kernelspec": {
      "name": "python3",
      "display_name": "Python 3"
    }
  },
  "cells": [
    {
      "cell_type": "markdown",
      "metadata": {
        "id": "view-in-github",
        "colab_type": "text"
      },
      "source": [
        "<a href=\"https://colab.research.google.com/github/TanzimRusho/DeepLearningPytorch/blob/master/chapter7.ipynb\" target=\"_parent\"><img src=\"https://colab.research.google.com/assets/colab-badge.svg\" alt=\"Open In Colab\"/></a>"
      ]
    },
    {
      "cell_type": "code",
      "metadata": {
        "id": "O7jbtyBQMfnX"
      },
      "source": [
        "class Generator(nn.Module):\n",
        "  def __init__(self):\n",
        "    super(Generator, self).__init__()\n",
        "    \n",
        "    self.main = nn.Sequential(\n",
        "        # input is Z, going into a convolution\n",
        "        nn.ConvTranspose2d(nz, ngf * 8, 4, 1, 0, bias=False),\n",
        "        nn.BatchNorm2d(ngf * 8),\n",
        "        nn.ReLU(True),\n",
        "        \n",
        "        # state size. (ngf * 8) x 4 x 4\n",
        "        nn.ConvTranspose2d(ngf * 8, ngf * 4, 4, 2, 1, bias=False),\n",
        "        nn.BatchNorm2d(ngf * 4),\n",
        "        nn.ReLU(True),\n",
        "        \n",
        "        # state size. (ngf * 4) x 8 x 8\n",
        "        nn.ConvTranspose2d(ngf * 4, ngf * 2, 4, 2, 1, bias=False),\n",
        "        nn.BatchNorm2d(ngf * 2),\n",
        "        nn.ReLU(True),\n",
        "        \n",
        "        # state size. (ngf * 2) x 16 x 16\n",
        "        nn.ConvTranspose2d(ngf * 2, ngf, 4, 2, 1, bias=False),\n",
        "        nn.BatchNorm2d(ngf),\n",
        "        nn.ReLU(True),\n",
        "        \n",
        "        # state size. (ngf) x 32 x 32\n",
        "        nn.ConvTranspose2d(ngf, nc, 4, 2, 1, bias=False),\n",
        "        nn.Tanh()\n",
        "        \n",
        "        # state size. \n",
        "        \n",
        "        \n",
        "    \n",
        "    )"
      ],
      "execution_count": null,
      "outputs": []
    }
  ]
}